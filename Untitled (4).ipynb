{
 "cells": [
  {
   "cell_type": "code",
   "execution_count": 16,
   "id": "010340e8-217f-473a-88a2-dd786341721d",
   "metadata": {},
   "outputs": [],
   "source": [
    "class name:\n",
    "    def devti(self):\n",
    "        print('she is a girl')"
   ]
  },
  {
   "cell_type": "code",
   "execution_count": 17,
   "id": "d76da227-735b-406c-9568-94694cccc0ac",
   "metadata": {},
   "outputs": [],
   "source": [
    "class name_1:\n",
    "    def devti(self):\n",
    "        print('she is studying')"
   ]
  },
  {
   "cell_type": "code",
   "execution_count": 26,
   "id": "0703de12-ac4b-4a16-86ef-bad9a323107b",
   "metadata": {},
   "outputs": [],
   "source": [
    "def name_2(ar):\n",
    "    for i in ar:\n",
    "        i.devti()"
   ]
  },
  {
   "cell_type": "code",
   "execution_count": 28,
   "id": "d29309d7-e844-49f2-91c3-152e3d49a1e1",
   "metadata": {},
   "outputs": [
    {
     "name": "stdout",
     "output_type": "stream",
     "text": [
      "The dog barks.\n",
      "The cat meows.\n"
     ]
    }
   ],
   "source": [
    "\n",
    "\n",
    "class Dog:\n",
    "    def speak(self):\n",
    "        print(\"The dog barks.\")\n",
    "\n",
    "class Cat:\n",
    "    def speak(self):\n",
    "        print(\"The cat meows.\")\n",
    "\n",
    "# Create instances of Dog and Cat\n",
    "dog = Dog()\n",
    "cat = Cat()\n",
    "\n",
    "# Call the speak method on the instances\n",
    "dog.speak()  # Output: The dog barks.\n",
    "cat.speak()  # Output: The cat meows.\n"
   ]
  },
  {
   "cell_type": "code",
   "execution_count": 29,
   "id": "e9af876a-ba92-4ba9-bfa7-c0b826eec54b",
   "metadata": {},
   "outputs": [],
   "source": [
    "#1 que\n",
    "# a class -- is a blueprint or template that defines the characteristics\n",
    "#(attributes) and behaviors (methods) that an object of that class will have.\n",
    "# an object---- is an instance of a class"
   ]
  },
  {
   "cell_type": "code",
   "execution_count": 30,
   "id": "7999e9e6-068f-4c55-901b-f39d1349d824",
   "metadata": {},
   "outputs": [],
   "source": [
    "class A:\n",
    "    def clasA(self,name):\n",
    "        self.name=name\n",
    "        print(self.name)"
   ]
  },
  {
   "cell_type": "code",
   "execution_count": 32,
   "id": "cdb6c4c6-d582-4a2e-8ca7-1bcb4cc8149b",
   "metadata": {},
   "outputs": [
    {
     "name": "stdout",
     "output_type": "stream",
     "text": [
      "devti\n"
     ]
    }
   ],
   "source": [
    "OBJ_1=A()\n",
    "OBJ_1.clasA('devti')"
   ]
  },
  {
   "cell_type": "code",
   "execution_count": 33,
   "id": "d98918e9-5a7f-4b7e-92b1-f88cb29d2227",
   "metadata": {},
   "outputs": [],
   "source": [
    "#2 que\n",
    "     # 4 pillar of oops\n",
    "        #Incapsulation\n",
    "        #Inheritance\n",
    "        #Abstraction\n",
    "        #polymorphism"
   ]
  },
  {
   "cell_type": "code",
   "execution_count": 34,
   "id": "5cdc5434-4269-4f57-966d-894a7994d5f8",
   "metadata": {},
   "outputs": [],
   "source": [
    "#3 que\n",
    "# __init__ : Its purpose is to initialize the object's attributes and perform any \n",
    "#            necessary setup or initialization tasks"
   ]
  },
  {
   "cell_type": "code",
   "execution_count": 35,
   "id": "76cc8f0a-4495-4ce9-8998-42ef7891b779",
   "metadata": {},
   "outputs": [],
   "source": [
    "class vehicle:\n",
    "    def __init__(self,name_of_vehicle,max_speed,average_of_vehicle):\n",
    "        self.name_of_vehicle=name_of_vehicle\n",
    "        self.max_speed=max_speed\n",
    "        self.average_of_vehicle=average_of_vehicle"
   ]
  },
  {
   "cell_type": "code",
   "execution_count": 36,
   "id": "9dd60cdc-224d-4379-9c0e-d6d9c2585c76",
   "metadata": {},
   "outputs": [],
   "source": [
    "#4 que\n",
    "#the self parameter is used to refer to the instance (object) of a class within its own methods"
   ]
  },
  {
   "cell_type": "code",
   "execution_count": 37,
   "id": "a35ad3d0-04cb-4f17-8235-719c20aa23db",
   "metadata": {},
   "outputs": [],
   "source": [
    "#5 que\n",
    "#    Inheritance that allows a class (subclass) to inherit the properties (attributes and methods)\n",
    "#    of another class (superclass)"
   ]
  },
  {
   "cell_type": "code",
   "execution_count": 38,
   "id": "6dc79f21-4388-41f6-bb22-8300cfc176c8",
   "metadata": {},
   "outputs": [],
   "source": [
    "class A:\n",
    "    def clasA(self,name):\n",
    "        self.name=name\n",
    "        print(self.name)"
   ]
  },
  {
   "cell_type": "code",
   "execution_count": 39,
   "id": "59e606e1-b006-4a0b-81b4-71d6197a6015",
   "metadata": {},
   "outputs": [],
   "source": [
    "class B:\n",
    "    def clasB(self,age):\n",
    "        self.age=age\n",
    "        print(self.age)"
   ]
  },
  {
   "cell_type": "code",
   "execution_count": 40,
   "id": "a66474dc-7e90-4558-b2f7-8abe18046bd4",
   "metadata": {},
   "outputs": [],
   "source": [
    "OBJ_1=A()\n",
    "OBJ_2=B()"
   ]
  },
  {
   "cell_type": "code",
   "execution_count": 41,
   "id": "d1482236-af4d-4372-abc4-60a4c6f54614",
   "metadata": {},
   "outputs": [],
   "source": [
    "class C(A,B):\n",
    "    def clasC(self,age,gender):\n",
    "        self.gender=gender\n",
    "        print(self.gender,self.age)"
   ]
  },
  {
   "cell_type": "code",
   "execution_count": 42,
   "id": "275ae139-7327-479a-8cee-a49abe7c7ceb",
   "metadata": {},
   "outputs": [],
   "source": [
    "OBJ_3=C()"
   ]
  },
  {
   "cell_type": "code",
   "execution_count": 43,
   "id": "7d8c28dd-34d9-45e2-8200-01722aa6d9d3",
   "metadata": {},
   "outputs": [
    {
     "name": "stdout",
     "output_type": "stream",
     "text": [
      "devti\n"
     ]
    }
   ],
   "source": [
    "OBJ_3.clasA('devti')"
   ]
  },
  {
   "cell_type": "code",
   "execution_count": null,
   "id": "2ee7edf6-9f3b-4e76-abf6-a53eb274783a",
   "metadata": {},
   "outputs": [],
   "source": []
  }
 ],
 "metadata": {
  "kernelspec": {
   "display_name": "Python 3 (ipykernel)",
   "language": "python",
   "name": "python3"
  },
  "language_info": {
   "codemirror_mode": {
    "name": "ipython",
    "version": 3
   },
   "file_extension": ".py",
   "mimetype": "text/x-python",
   "name": "python",
   "nbconvert_exporter": "python",
   "pygments_lexer": "ipython3",
   "version": "3.10.8"
  }
 },
 "nbformat": 4,
 "nbformat_minor": 5
}
